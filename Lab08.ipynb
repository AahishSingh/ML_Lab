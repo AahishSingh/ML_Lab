{
 "cells": [
  {
   "cell_type": "code",
   "execution_count": null,
   "id": "c7979b20-f898-4f58-87cd-fabffc26322a",
   "metadata": {},
   "outputs": [],
   "source": [
    "import pandas as pd\n",
    "from sklearn.datasets import load_iris\n",
    "from sklearn.model_selection import train_test_split\n",
    "from sklearn.neighbors import KNeighborsClassifier\n",
    "from sklearn.metrics import accuracy_score, classification_report\n",
    "\n",
    "iris = load_iris()\n",
    "data = pd.DataFrame(data=iris.data, columns=iris.feature_names)\n",
    "data['target'] = iris.target\n",
    "\n",
    "X = data.drop('target', axis=1)\n",
    "y = data['target']\n",
    "X_train, X_test, y_train, y_test = train_test_split(X, y, test_size=0.2,random_state=42)\n",
    "\n",
    "X_train.shape, X_test.shape,  y_train.shape, y_test.shape\n",
    "\n",
    "k = 3 \n",
    "knn = KNeighborsClassifier(n_neighbors=k)\n",
    "knn.fit(X_train, y_train)\n",
    "\n",
    "y_pred = knn.predict(X_test)\n",
    "\n",
    "accuracy = accuracy_score(y_test, y_pred)\n",
    "print(f'Accuracy: {accuracy:.2f}')\n",
    "\n",
    "print(\"\\nClassification Report:\\n\", classification_report(y_test, y_pred))\n",
    "\n",
    "from sklearn.metrics import confusion_matrix\n",
    "\n",
    "cm = confusion_matrix(y_test, y_pred)\n",
    "print(\"Confusion Matrix: \\n\", cm)\n",
    "\n",
    "correct_predictions = []\n",
    "wrong_predictions = []\n",
    "for i in range(len(y_test)):\n",
    "    if y_test.iloc[i] == y_pred[i]:\n",
    "        correct_predictions.append((X_test.iloc[i].tolist(), y_test.iloc[i], y_pred[i]))\n",
    "    else:\n",
    "        wrong_predictions.append((X_test.iloc[i].tolist(), y_test.iloc[i], y_pred[i]))\n",
    "print(\"\\nCorrect Predictions:\")\n",
    "for cp in correct_predictions:\n",
    "    print(f\"Features: {cp[0]}, True Label: {cp[1]}, Predicted Label: {cp[2]}\")\n",
    "print(\"\\nWrong Predictions:\")\n",
    "for wp in wrong_predictions:\n",
    "    print(f\"Features: {wp[0]}, True Label: {wp[1]}, Predicted Label: {wp[2]}\")"
   ]
  }
 ],
 "metadata": {
  "kernelspec": {
   "display_name": "Python 3 (ipykernel)",
   "language": "python",
   "name": "python3"
  },
  "language_info": {
   "codemirror_mode": {
    "name": "ipython",
    "version": 3
   },
   "file_extension": ".py",
   "mimetype": "text/x-python",
   "name": "python",
   "nbconvert_exporter": "python",
   "pygments_lexer": "ipython3",
   "version": "3.11.5"
  }
 },
 "nbformat": 4,
 "nbformat_minor": 5
}
