{
 "cells": [
  {
   "cell_type": "code",
   "execution_count": null,
   "id": "c6cba4b7-ba1a-4cd8-bafe-04ff8ae03698",
   "metadata": {},
   "outputs": [
    {
     "ename": "",
     "evalue": "",
     "output_type": "error",
     "traceback": [
      "\u001b[1;31mRunning cells with 'Python 3.12.2' requires the ipykernel package.\n",
      "\u001b[1;31mRun the following command to install 'ipykernel' into the Python environment. \n",
      "\u001b[1;31mCommand: 'c:/Python312/python.exe -m pip install ipykernel -U --user --force-reinstall'"
     ]
    }
   ],
   "source": [
    "import pandas as pd \n",
    "import numpy as np\n",
    "\n",
    "data = pd.read_csv('Dataset10.csv')\n",
    "\n",
    "data.head()\n",
    "\n",
    "data = data.drop(['Day'], axis = 1)\n",
    "data.head()\n",
    "\n",
    "attribute=np.array(data)[:,:-1]\n",
    "\n",
    "print(attribute)\n",
    "\n",
    "target=np.array(data)[:,-1]\n",
    "print(target)\n",
    "\n",
    "def train(att,tar):\n",
    "    for i,val in enumerate(tar):\n",
    "        if val=='Yes':\n",
    "            specific_h=att[i].copy()\n",
    "            break\n",
    "    for i,val in enumerate(att):\n",
    "        if tar[i]=='Yes':\n",
    "            for x in range(len(specific_h)):\n",
    "                if val[x]!=specific_h[x]:\n",
    "                    specific_h[x]='?'\n",
    "                else:\n",
    "                    pass\n",
    "    return specific_h\n",
    "\n",
    "print(train(attribute,target))\n",
    "\n",
    "data1 = pd.read_csv(\"ENJOYSPORT.csv\")\n",
    "data1.head()\n",
    "\n",
    "attribute=np.array(data1)[:,:-1]\n",
    "target = np.array(data1)[:, -1]\n",
    "print(attribute[:3])\n",
    "print(target[:3])\n",
    "\n",
    "def train(att,tar):\n",
    "    for i,val in enumerate(tar):\n",
    "        if val==1:\n",
    "            specific_h=att[i].copy()\n",
    "            break\n",
    "    for i,val in enumerate(att):\n",
    "        if tar[i]==1:\n",
    "            for x in range(len(specific_h)):\n",
    "                if val[x]!=specific_h[x]:\n",
    "                    specific_h[x]='?'\n",
    "                else:\n",
    "                    pass\n",
    "    return specific_h\n",
    "\n",
    "train(attribute, target)\n",
    "\n",
    "len(data1)"
   ]
  }
 ],
 "metadata": {
  "kernelspec": {
   "display_name": "Python 3 (ipykernel)",
   "language": "python",
   "name": "python3"
  },
  "language_info": {
   "codemirror_mode": {
    "name": "ipython",
    "version": 3
   },
   "file_extension": ".py",
   "mimetype": "text/x-python",
   "name": "python",
   "nbconvert_exporter": "python",
   "pygments_lexer": "ipython3",
   "version": "3.12.2"
  }
 },
 "nbformat": 4,
 "nbformat_minor": 5
}
